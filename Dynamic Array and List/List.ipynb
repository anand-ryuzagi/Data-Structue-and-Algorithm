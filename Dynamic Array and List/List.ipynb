# 1.Let us say your expense for every month are listed below,
## January - 2200
## February - 2350
## March - 2600
## April - 2130
## May - 2190
## Create a list to store these monthly expenses and using that find out,

1. In Feb, how many dollars you spent extra compare to January?
2. Find out your total expense in first quarter (first three months) of the year.
3. Find out if you spent exactly 2000 dollars in any month
4. June month just finished and your expense is 1980 dollar. Add this item to our monthly expense list
5. You returned an item that you bought in a month of April andgot a refund of 200$. Make a correction to your monthly expense list based on this

expense = [2200,2350,2600,2130,2190]

1.In Feb, how many dollars you spent extra compare to January?

print(f"You spent extra : {expense[1]-expense[0]}")

2. Find out your total expense in first quarter (first three months) of the year.

print(f"The total expense in first quarter : {expense[0]+expense[1]+expense[2]}")

3.Find out if you spent exactly 2000 dollars in any month

print(f"Is there any expense exactly 2000 dollars? {2000 in expense}")

4.June month just finished and your expense is 1980 dollar. Add this item to our monthly expense list

expense.append(1980)
print(f"New expense list after adding june expense {expense}")

5 .You returned an item that you bought in a month of April andgot a refund of 200$. Make a correction to your monthly expense list based on this

expense[3] = expense[3]-200
print(f"Expenses after refunding 200$ in the april expense : {expense} ")

# 2. You have a list of your favourite marvel super heros.
## heros=['spider man','thor','hulk','iron man','captain america']

## Using this find out,

1. Length of the list
2. Add 'black panther' at the end of this list
3. You realize that you need to add 'black panther' after 'hulk',
   so remove it from the list first and then add it after 'hulk'
4. Now you don't like thor and hulk because they get angry easily :)
   So you want to remove thor and hulk from list and replace them with doctor strange (because he is cool).
   Do that with one line of code.
5. Sort the heros list in alphabetical order (Hint. Use dir() functions to list down all functions available in list)

heros = ['spider man','thor','hulk','iron man','captain america']

1.Length of the list

print(f"Length of the heros list {len(heros)}")

2. Add 'black panther' at the end of this list

heros.append('black panther')
print(f"heros list after adding balck panther {heros}")

3.You realize that you need to add 'black panther' after 'hulk', so remove it from the list first and then add it after 'hulk'

heros.remove('black panther')
heros.insert(3,'black panther')
print(f"heros list changes {heros}")

4.Now you don't like thor and hulk because they get angry easily :) So you want to remove thor and hulk from list and replace them with doctor strange (because he is cool). Do that with one line of code.

heros[1:3] = ['doctor strange']
print(f"New heros list {heros}")

5. Sort the heros list in alphabetical order (Hint. Use dir() functions to list down all functions available in list)

heros.sort()
print(heros)

# 3. Create a list of all odd numbers between 1 and a max number. Max number is something you need to take from a user using input() function

initial = 1
max_num = int(input("Enter the number upto which you want odd numbers: "))
odd_list = []
for i in range(initial,max_num):
    if(i%2!= 0):
        odd_list.append(i)
        
print(odd_list)

